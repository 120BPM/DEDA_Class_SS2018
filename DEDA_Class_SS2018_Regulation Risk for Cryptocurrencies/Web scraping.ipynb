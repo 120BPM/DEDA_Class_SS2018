{
 "cells": [
  {
   "cell_type": "code",
   "execution_count": 1,
   "metadata": {},
   "outputs": [],
   "source": [
    "import os\n",
    "from selenium import webdriver\n",
    "from selenium.webdriver.common.keys import Keys\n",
    "import requests\n",
    "from bs4 import BeautifulSoup\n",
    "import datetime\n",
    "import re\n",
    "import time\n",
    "import urllib\n",
    "import pandas as pd\n",
    "import numpy as np\n",
    "\n",
    "url = \"https://cointelegraph.com/tags/bitcoin-regulation\""
   ]
  },
  {
   "cell_type": "code",
   "execution_count": 2,
   "metadata": {
    "scrolled": true
   },
   "outputs": [],
   "source": [
    "driver = webdriver.Firefox()\n",
    "driver.get(url)\n",
    "html = driver.execute_script(\"return document.documentElement.outerHTML\")\n",
    "selsoup = BeautifulSoup(html, \"html.parser\")"
   ]
  },
  {
   "cell_type": "code",
   "execution_count": 44,
   "metadata": {
    "scrolled": true
   },
   "outputs": [
    {
     "name": "stdout",
     "output_type": "stream",
     "text": [
      "https://cointelegraph.com/news/canada-releases-official-draft-of-new-crypto-regulations-focused-on-kyc-aml\n",
      "https://cointelegraph.com/news/colombian-banks-close-all-accounts-of-s-american-crypto-exchange-buda\n",
      "https://cointelegraph.com/news/china-as-a-prime-example-of-blockchain-before-bitcoin-policy\n",
      "https://cointelegraph.com/news/wsj-cme-and-btc-exchange-dispute-led-us-regulators-to-open-price-manipulation-probe\n",
      "https://cointelegraph.com/news/united-states-v-crypto-etfs-a-lingering-struggle-for-mass-adoption\n",
      "https://cointelegraph.com/news/governor-of-connecticut-signs-blockchain-working-group-bill-into-law\n",
      "https://cointelegraph.com/news/quebec-halts-crypto-mining-electricity-requests-amid-huge-demand-forms-new-framework\n",
      "https://cointelegraph.com/news/polish-financial-authority-says-crypto-trading-is-legal-in-wake-of-anti-crypto-campaign\n",
      "https://cointelegraph.com/news/sec-us-crypto-exchanges-not-enthusiastic-enough-about-regulatory-compliance\n",
      "https://cointelegraph.com/news/coinbase-acquires-financial-services-firm-to-become-sec-regulated-broker-dealer\n",
      "https://cointelegraph.com/news/susquehanna-is-opening-crypto-trading-starting-with-btc-futures\n",
      "https://cointelegraph.com/news/sec-chairman-jay-clayton-says-bitcoin-not-a-security-most-icos-likely-are\n",
      "https://cointelegraph.com/news/japan-s-financial-watchdog-rejects-crypto-exchange-license-for-first-time\n",
      "https://cointelegraph.com/news/lexisnexis-partners-with-australian-crypto-exchange-blockbid-to-increase-security\n",
      "https://cointelegraph.com/news/russian-court-annuls-previous-decision-to-block-bitcoin-related-site\n",
      "https://cointelegraph.com/news/ban-complete-china-blocks-foreign-crypto-exchanges-to-counter-financial-risks\n",
      "https://cointelegraph.com/news/china-after-banning-exchanges-authorities-move-to-close-exchange-like-services\n",
      "https://cointelegraph.com/news/india-bitcoin-prices-drop-as-media-misinterprets-govts-regulation-speech\n",
      "https://cointelegraph.com/news/chinas-alibaba-launches-crypto-mining-platform-despite-restrictions-say-local-sources\n",
      "https://cointelegraph.com/news/breaking-russia-issuing-cryptoruble\n",
      "https://cointelegraph.com/news/metropolitan-bank-halts-all-cryptocurrency-related-wire-transfers\n",
      "https://cointelegraph.com/news/jpmorgan-chase-ceo-all-crypto-will-be-government-controlled\n",
      "https://cointelegraph.com/news/canada-td-bank-bans-credit-card-purchases-of-crypto-following-global-trend\n",
      "https://cointelegraph.com/news/indian-banks-suspending-bitcoin-exchange-accounts\n",
      "https://cointelegraph.com/news/south-korea-clarifies-position-on-crypto-regulation-amidst-confusion-in-mainstream-media\n",
      "https://cointelegraph.com/news/irs-to-go-after-bitcoin-and-bitcoin-cash-profits-what-to-expect\n",
      "https://cointelegraph.com/news/harvard-professors-predict-bitcoin-collapse-due-to-government-regulation\n",
      "https://cointelegraph.com/news/suddenly-bitcoin-to-be-officially-legal-in-india\n",
      "https://cointelegraph.com/news/bitcoin-laundering-less-than-one-percent-of-all-transactions\n",
      "https://cointelegraph.com/news/s-korea-to-tax-crypto-exchanges-242-percent-in-line-with-existing-tax-policy\n",
      "https://cointelegraph.com/news/regulation-is-only-hope-for-bitcoin-morgan-stanley\n",
      "https://cointelegraph.com/news/google-to-ban-all-crypto-related-ads-starting-june-2018\n",
      "https://cointelegraph.com/news/jpmorgan-chase-ceo-all-crypto-will-be-government-controlled\n",
      "https://cointelegraph.com/news/breaking-russia-issuing-cryptoruble\n",
      "https://cointelegraph.com/news/texas-regulator-orders-bitconnect-to-cease-and-desist-marketing-securities\n",
      "https://cointelegraph.com/news/harvard-professors-predict-bitcoin-collapse-due-to-government-regulation\n",
      "https://cointelegraph.com/news/how-chinese-bitcoin-buyers-are-getting-around-government-ban\n",
      "https://cointelegraph.com/news/indian-banks-suspending-bitcoin-exchange-accounts\n",
      "https://cointelegraph.com/news/india-bitcoin-prices-drop-as-media-misinterprets-govts-regulation-speech\n",
      "https://cointelegraph.com/news/ban-complete-china-blocks-foreign-crypto-exchanges-to-counter-financial-risks\n",
      "https://cointelegraph.com/news/russian-minister-we-will-never-consider-bitcoin-legal\n",
      "https://cointelegraph.com/news/cme-clearing-member-to-regulator-bitcoin-futures-impossible\n",
      "https://cointelegraph.com/news/china-lines-up-its-ko-punch-will-it-work\n",
      "https://cointelegraph.com/news/uk-secretary-diane-abbott-if-everyone-used-bitcoin-the-whole-thing-would-collapse\n",
      "https://cointelegraph.com/news/general-manager-of-bis-wants-to-prevent-crypto-from-joining-main-financial-system\n"
     ]
    }
   ],
   "source": [
    "for titlesoup in selsoup.findAll(\"h2\",{\"class\":\"header\"}):\n",
    "    for link2 in titlesoup.findAll(\"a\", href = re.compile(\"^(https://cointelegraph.com/news/)\")):\n",
    "        if 'href' in link2.attrs:\n",
    "            linkname = link2.attrs['href']\n",
    "#         print(linkname)"
   ]
  },
  {
   "cell_type": "code",
   "execution_count": null,
   "metadata": {},
   "outputs": [],
   "source": [
    "# scraping recent news articles"
   ]
  },
  {
   "cell_type": "code",
   "execution_count": 4,
   "metadata": {
    "scrolled": true
   },
   "outputs": [],
   "source": [
    "driver = webdriver.Firefox()\n",
    "driver.get(url)\n",
    "for i in range(1,100):\n",
    "    elem = driver.find_element_by_link_text(\"Load more articles\")\n",
    "    elem.send_keys(Keys.RETURN)\n",
    "    \n",
    "#     for link in selsoup.findAll(\"a\", href = re.compile(\"^(https://cointelegraph.com/news/)\")):\n",
    "#         if 'href' in link.attrs:\n",
    "#             linkname = link.attrs['href']\n",
    "#         print(link.attrs['href'])\n",
    "#         linkno=linkno+1\n",
    "#             f.write(linkname + \"\\n\")\n",
    "#     f.close()\n",
    "    \n",
    "    i += 1\n",
    "time.sleep(10)\n",
    "# f.close()"
   ]
  },
  {
   "cell_type": "code",
   "execution_count": 83,
   "metadata": {},
   "outputs": [],
   "source": [
    "html = driver.page_source\n",
    "mysoup = BeautifulSoup(html, \"html.parser\")"
   ]
  },
  {
   "cell_type": "code",
   "execution_count": 84,
   "metadata": {},
   "outputs": [
    {
     "data": {
      "text/plain": [
       "9"
      ]
     },
     "execution_count": 84,
     "metadata": {},
     "output_type": "execute_result"
    }
   ],
   "source": [
    "filename = \"recentlinks.csv\"\n",
    "f = open(filename, 'w')\n",
    "\n",
    "headers = \"linkname\\n\"\n",
    "\n",
    "f.write(headers)"
   ]
  },
  {
   "cell_type": "code",
   "execution_count": 85,
   "metadata": {},
   "outputs": [],
   "source": [
    "for link in mysoup.findAll(\"a\", href = re.compile(\"^(https://cointelegraph.com/news/)\")):\n",
    "    if 'href' in link.attrs:\n",
    "        linkname = link.attrs['href']\n",
    "#         print(link.attrs['href'])\n",
    "#         linkno=linkno+1\n",
    "        f.write(linkname + \"\\n\")\n",
    "#     f.close()\n",
    "    \n",
    "#     i += 1\n",
    "f.close()"
   ]
  },
  {
   "cell_type": "code",
   "execution_count": null,
   "metadata": {},
   "outputs": [],
   "source": [
    "# now scraping top news articles"
   ]
  },
  {
   "cell_type": "code",
   "execution_count": 15,
   "metadata": {},
   "outputs": [],
   "source": [
    "driver = webdriver.Firefox()\n",
    "driver.get(url)\n",
    "\n",
    "topnews = driver.find_element_by_link_text(\"Top News\")\n",
    "topnews.send_keys(Keys.RETURN)\n",
    "\n",
    "for i in range(1,100):\n",
    "    elem = driver.find_element_by_link_text(\"Load more articles\")\n",
    "    elem.send_keys(Keys.RETURN)\n",
    "     \n",
    "    i += 1\n",
    "time.sleep(10)"
   ]
  },
  {
   "cell_type": "code",
   "execution_count": 16,
   "metadata": {},
   "outputs": [],
   "source": [
    "html = driver.page_source\n",
    "mysoup = BeautifulSoup(html, \"html.parser\")"
   ]
  },
  {
   "cell_type": "code",
   "execution_count": 17,
   "metadata": {},
   "outputs": [
    {
     "data": {
      "text/plain": [
       "9"
      ]
     },
     "execution_count": 17,
     "metadata": {},
     "output_type": "execute_result"
    }
   ],
   "source": [
    "filename = \"toplinks.csv\"\n",
    "f = open(filename, 'w')\n",
    "\n",
    "headers = \"linkname\\n\"\n",
    "\n",
    "f.write(headers)"
   ]
  },
  {
   "cell_type": "code",
   "execution_count": 18,
   "metadata": {},
   "outputs": [],
   "source": [
    "for link in mysoup.findAll(\"a\", href = re.compile(\"^(https://cointelegraph.com/news/)\")):\n",
    "    if 'href' in link.attrs:\n",
    "        linkname = link.attrs['href']\n",
    "\n",
    "        f.write(linkname + \"\\n\")\n",
    "\n",
    "f.close()"
   ]
  },
  {
   "cell_type": "code",
   "execution_count": 19,
   "metadata": {},
   "outputs": [],
   "source": [
    "# now scrape the most commented articles"
   ]
  },
  {
   "cell_type": "code",
   "execution_count": 20,
   "metadata": {},
   "outputs": [],
   "source": [
    "driver = webdriver.Firefox()\n",
    "driver.get(url)\n",
    "\n",
    "topnews = driver.find_element_by_link_text(\"Commented\")\n",
    "topnews.send_keys(Keys.RETURN)\n",
    "\n",
    "for i in range(1,100):\n",
    "    elem = driver.find_element_by_link_text(\"Load more articles\")\n",
    "    elem.send_keys(Keys.RETURN)\n",
    "     \n",
    "    i += 1\n",
    "time.sleep(10)"
   ]
  },
  {
   "cell_type": "code",
   "execution_count": 21,
   "metadata": {},
   "outputs": [],
   "source": [
    "html = driver.page_source\n",
    "mysoup = BeautifulSoup(html, \"html.parser\")"
   ]
  },
  {
   "cell_type": "code",
   "execution_count": 22,
   "metadata": {},
   "outputs": [
    {
     "data": {
      "text/plain": [
       "9"
      ]
     },
     "execution_count": 22,
     "metadata": {},
     "output_type": "execute_result"
    }
   ],
   "source": [
    "filename = \"commented.csv\"\n",
    "f = open(filename, 'w')\n",
    "\n",
    "headers = \"linkname\\n\"\n",
    "\n",
    "f.write(headers)"
   ]
  },
  {
   "cell_type": "code",
   "execution_count": 23,
   "metadata": {},
   "outputs": [],
   "source": [
    "for link in mysoup.findAll(\"a\", href = re.compile(\"^(https://cointelegraph.com/news/)\")):\n",
    "    if 'href' in link.attrs:\n",
    "        linkname = link.attrs['href']\n",
    "\n",
    "        f.write(linkname + \"\\n\")\n",
    "\n",
    "f.close()"
   ]
  },
  {
   "cell_type": "code",
   "execution_count": null,
   "metadata": {},
   "outputs": [],
   "source": []
  },
  {
   "cell_type": "code",
   "execution_count": 46,
   "metadata": {},
   "outputs": [],
   "source": [
    "recentlinks = pd.read_csv(\"ctlinks.csv\")\n",
    "toplinks = pd.read_csv(\"toplinks.csv\")\n",
    "commentedlinks = pd.read_csv(\"commented.csv\")"
   ]
  },
  {
   "cell_type": "code",
   "execution_count": 55,
   "metadata": {
    "scrolled": true
   },
   "outputs": [],
   "source": [
    "recentlinks = recentlinks.drop_duplicates(subset=['linkname'], keep='first')"
   ]
  },
  {
   "cell_type": "code",
   "execution_count": 57,
   "metadata": {},
   "outputs": [],
   "source": [
    "recentlinks = recentlinks.reset_index(drop=True)"
   ]
  },
  {
   "cell_type": "code",
   "execution_count": 141,
   "metadata": {},
   "outputs": [],
   "source": [
    "frames = [recentlinks, toplinks, commentedlinks]\n",
    "linksall = pd.concat(frames)"
   ]
  },
  {
   "cell_type": "code",
   "execution_count": 143,
   "metadata": {
    "scrolled": true
   },
   "outputs": [],
   "source": [
    "linksall = linksall.drop_duplicates(subset=['linkname'], keep='first')"
   ]
  },
  {
   "cell_type": "code",
   "execution_count": 145,
   "metadata": {},
   "outputs": [],
   "source": [
    "linksall = linksall[linksall.linkname != 'linkname']"
   ]
  },
  {
   "cell_type": "code",
   "execution_count": 148,
   "metadata": {},
   "outputs": [],
   "source": [
    "# linksall.columns = [''] * len(linksall.columns)"
   ]
  },
  {
   "cell_type": "code",
   "execution_count": 152,
   "metadata": {},
   "outputs": [],
   "source": [
    "linksall['linkname'] = linksall['linkname'].str.strip()"
   ]
  },
  {
   "cell_type": "code",
   "execution_count": 154,
   "metadata": {},
   "outputs": [],
   "source": [
    "linksall['linkname'] = linksall['linkname'].str.replace(\" \",\"\")"
   ]
  },
  {
   "cell_type": "code",
   "execution_count": 162,
   "metadata": {},
   "outputs": [
    {
     "data": {
      "text/plain": [
       "'https://cointelegraph.com/news/japan-s-financial-watchdog-rejects-crypto-exchange-license-for-first-time'"
      ]
     },
     "execution_count": 162,
     "metadata": {},
     "output_type": "execute_result"
    }
   ],
   "source": [
    "linksall.iloc[1][0]"
   ]
  },
  {
   "cell_type": "code",
   "execution_count": 166,
   "metadata": {
    "scrolled": true
   },
   "outputs": [],
   "source": [
    "linksall.to_csv(\"linksall.csv\", encoding='utf-8', index=False)"
   ]
  },
  {
   "cell_type": "code",
   "execution_count": null,
   "metadata": {},
   "outputs": [],
   "source": []
  },
  {
   "cell_type": "code",
   "execution_count": null,
   "metadata": {},
   "outputs": [],
   "source": []
  },
  {
   "cell_type": "code",
   "execution_count": 229,
   "metadata": {
    "scrolled": true
   },
   "outputs": [
    {
     "name": "stdout",
     "output_type": "stream",
     "text": [
      "Wall time: 1h 30min 59s\n"
     ]
    }
   ],
   "source": [
    "%%time\n",
    "\n",
    "title=[]\n",
    "author=[]\n",
    "dt=[]\n",
    "views=[]\n",
    "shares=[]\n",
    "abody=[]\n",
    "comments=[]\n",
    "\n",
    "for link in linksall.linkname:\n",
    "    page = requests.get(link)\n",
    "    soup = BeautifulSoup(page.content, 'html.parser')\n",
    "    soupa = soup.find(class_=\"name\")\n",
    "    soupt = soup.find(class_=\"header\")\n",
    "    soupd = soup.find(class_=\"date\")\n",
    "    soupv = soup.find(class_=\"referral_stats total-views\")\n",
    "    soups = soup.find(class_=\"referral_stats total-shares\")\n",
    "    soupb = soup.find(class_=\"post-full-text contents js-post-full-text\")\n",
    "    soupc = soup.find(class_=\"comments-count\")\n",
    "    text =\"\"\n",
    "    texts = soupb.find_all(\"p\")\n",
    "    for row in texts:\n",
    "        text += row.get_text()\n",
    "\n",
    "    author1 = soupa.text.strip()\n",
    "    title1 = soupt.text.strip()\n",
    "    dt1 = soupd['datetime']\n",
    "    views1 = soupv.find(class_=\"total-qty\").text.strip()\n",
    "    shares1 = soups.find(class_=\"total-qty\").text.strip()\n",
    "    abody1 = text\n",
    "\n",
    "    try:\n",
    "        comments1 = soupc.text.strip()\n",
    "    except Exception:\n",
    "        comments1 = []\n",
    "    title.append(title1)\n",
    "    author.append(author1)\n",
    "    dt.append(dt1)\n",
    "    views.append(views1)\n",
    "    shares.append(shares1)\n",
    "    abody.append(abody1)\n",
    "    comments.append(comments1)"
   ]
  },
  {
   "cell_type": "code",
   "execution_count": 230,
   "metadata": {},
   "outputs": [],
   "source": [
    "df = pd.DataFrame()\n",
    "df = df.fillna(0) # with 0s rather than NaNs"
   ]
  },
  {
   "cell_type": "code",
   "execution_count": 233,
   "metadata": {},
   "outputs": [],
   "source": [
    "df['title'] = title\n",
    "df['author'] = author\n",
    "df['dt'] = dt\n",
    "df['views'] = views\n",
    "df['shares'] = shares\n",
    "df['abody'] = abody\n",
    "df['comments'] = comments"
   ]
  },
  {
   "cell_type": "code",
   "execution_count": 234,
   "metadata": {},
   "outputs": [
    {
     "data": {
      "text/html": [
       "<div>\n",
       "<style>\n",
       "    .dataframe thead tr:only-child th {\n",
       "        text-align: right;\n",
       "    }\n",
       "\n",
       "    .dataframe thead th {\n",
       "        text-align: left;\n",
       "    }\n",
       "\n",
       "    .dataframe tbody tr th {\n",
       "        vertical-align: top;\n",
       "    }\n",
       "</style>\n",
       "<table border=\"1\" class=\"dataframe\">\n",
       "  <thead>\n",
       "    <tr style=\"text-align: right;\">\n",
       "      <th></th>\n",
       "      <th>title</th>\n",
       "      <th>author</th>\n",
       "      <th>dt</th>\n",
       "      <th>views</th>\n",
       "      <th>shares</th>\n",
       "      <th>abody</th>\n",
       "      <th>comments</th>\n",
       "    </tr>\n",
       "  </thead>\n",
       "  <tbody>\n",
       "    <tr>\n",
       "      <th>0</th>\n",
       "      <td>SEC Chairman Jay Clayton Says Bitcoin Not a Se...</td>\n",
       "      <td>Molly Jane Zuckerman</td>\n",
       "      <td>2018-06-07 16:05:19</td>\n",
       "      <td>21383</td>\n",
       "      <td>422</td>\n",
       "      <td>Jay Clayton, the chair of the US Securities an...</td>\n",
       "      <td>5</td>\n",
       "    </tr>\n",
       "    <tr>\n",
       "      <th>1</th>\n",
       "      <td>Japan's Financial Watchdog Rejects Crypto Exch...</td>\n",
       "      <td>Marie Huillet</td>\n",
       "      <td>2018-06-07 13:15:18</td>\n",
       "      <td>8146</td>\n",
       "      <td>158</td>\n",
       "      <td>Japan’s Financial Services Agency (FSA) has ba...</td>\n",
       "      <td>[]</td>\n",
       "    </tr>\n",
       "    <tr>\n",
       "      <th>2</th>\n",
       "      <td>LexisNexis Partners With Australian Crypto Exc...</td>\n",
       "      <td>Helen Partz</td>\n",
       "      <td>2018-06-05 13:45:18</td>\n",
       "      <td>18990</td>\n",
       "      <td>205</td>\n",
       "      <td>Risk management giant LexisNexis has partnered...</td>\n",
       "      <td>[]</td>\n",
       "    </tr>\n",
       "    <tr>\n",
       "      <th>3</th>\n",
       "      <td>Russian Court Annuls Previous Decision to Bloc...</td>\n",
       "      <td>Helen Partz</td>\n",
       "      <td>2018-06-05 12:15:14</td>\n",
       "      <td>10605</td>\n",
       "      <td>211</td>\n",
       "      <td>The City Court of St. Petersburg, Russia has o...</td>\n",
       "      <td>[]</td>\n",
       "    </tr>\n",
       "    <tr>\n",
       "      <th>4</th>\n",
       "      <td>Former SEC Chair Represents Ripple in Lawsuit ...</td>\n",
       "      <td>Ana Alexandre</td>\n",
       "      <td>2018-06-05 12:56:15</td>\n",
       "      <td>14094</td>\n",
       "      <td>172</td>\n",
       "      <td>Fintech company Ripple Labs has employed Debev...</td>\n",
       "      <td>1</td>\n",
       "    </tr>\n",
       "    <tr>\n",
       "      <th>5</th>\n",
       "      <td>SEC Names New Senior Advisor to Oversee Crypto...</td>\n",
       "      <td>Marie Huillet</td>\n",
       "      <td>2018-06-05 20:05:25</td>\n",
       "      <td>9216</td>\n",
       "      <td>192</td>\n",
       "      <td>The U.S. Securities and Exchange Commission (S...</td>\n",
       "      <td>[]</td>\n",
       "    </tr>\n",
       "    <tr>\n",
       "      <th>6</th>\n",
       "      <td>Former US Federal Prosecutor at Money20/20: ‘A...</td>\n",
       "      <td>Marie Huillet</td>\n",
       "      <td>2018-06-05 06:19:57</td>\n",
       "      <td>7957</td>\n",
       "      <td>321</td>\n",
       "      <td>Former U.S. Federal Prosecutor Mary Beth Bucha...</td>\n",
       "      <td>[]</td>\n",
       "    </tr>\n",
       "    <tr>\n",
       "      <th>7</th>\n",
       "      <td>Spain Introduces Innovation-Aimed Crypto Regul...</td>\n",
       "      <td>Stephen O'Neal</td>\n",
       "      <td>2018-06-05 05:45:40</td>\n",
       "      <td>13978</td>\n",
       "      <td>285</td>\n",
       "      <td>On May 30, the Spanish Congress unanimously su...</td>\n",
       "      <td>8</td>\n",
       "    </tr>\n",
       "    <tr>\n",
       "      <th>8</th>\n",
       "      <td>New York State Legislature Proposes Creation o...</td>\n",
       "      <td>Ana Alexandre</td>\n",
       "      <td>2018-06-04 13:20:17</td>\n",
       "      <td>22454</td>\n",
       "      <td>263</td>\n",
       "      <td>The banks committee of the New York state legi...</td>\n",
       "      <td>1</td>\n",
       "    </tr>\n",
       "    <tr>\n",
       "      <th>9</th>\n",
       "      <td>Japan: Financial Watchdog Probes Crypto Exchan...</td>\n",
       "      <td>Marie Huillet</td>\n",
       "      <td>2018-06-02 08:27:47</td>\n",
       "      <td>17063</td>\n",
       "      <td>165</td>\n",
       "      <td>Japan’s Financial Services Agency (FSA) has is...</td>\n",
       "      <td>11</td>\n",
       "    </tr>\n",
       "  </tbody>\n",
       "</table>\n",
       "</div>"
      ],
      "text/plain": [
       "                                               title                author  \\\n",
       "0  SEC Chairman Jay Clayton Says Bitcoin Not a Se...  Molly Jane Zuckerman   \n",
       "1  Japan's Financial Watchdog Rejects Crypto Exch...         Marie Huillet   \n",
       "2  LexisNexis Partners With Australian Crypto Exc...           Helen Partz   \n",
       "3  Russian Court Annuls Previous Decision to Bloc...           Helen Partz   \n",
       "4  Former SEC Chair Represents Ripple in Lawsuit ...         Ana Alexandre   \n",
       "5  SEC Names New Senior Advisor to Oversee Crypto...         Marie Huillet   \n",
       "6  Former US Federal Prosecutor at Money20/20: ‘A...         Marie Huillet   \n",
       "7  Spain Introduces Innovation-Aimed Crypto Regul...        Stephen O'Neal   \n",
       "8  New York State Legislature Proposes Creation o...         Ana Alexandre   \n",
       "9  Japan: Financial Watchdog Probes Crypto Exchan...         Marie Huillet   \n",
       "\n",
       "                    dt  views shares  \\\n",
       "0  2018-06-07 16:05:19  21383    422   \n",
       "1  2018-06-07 13:15:18   8146    158   \n",
       "2  2018-06-05 13:45:18  18990    205   \n",
       "3  2018-06-05 12:15:14  10605    211   \n",
       "4  2018-06-05 12:56:15  14094    172   \n",
       "5  2018-06-05 20:05:25   9216    192   \n",
       "6  2018-06-05 06:19:57   7957    321   \n",
       "7  2018-06-05 05:45:40  13978    285   \n",
       "8  2018-06-04 13:20:17  22454    263   \n",
       "9  2018-06-02 08:27:47  17063    165   \n",
       "\n",
       "                                               abody comments  \n",
       "0  Jay Clayton, the chair of the US Securities an...        5  \n",
       "1  Japan’s Financial Services Agency (FSA) has ba...       []  \n",
       "2  Risk management giant LexisNexis has partnered...       []  \n",
       "3  The City Court of St. Petersburg, Russia has o...       []  \n",
       "4  Fintech company Ripple Labs has employed Debev...        1  \n",
       "5  The U.S. Securities and Exchange Commission (S...       []  \n",
       "6  Former U.S. Federal Prosecutor Mary Beth Bucha...       []  \n",
       "7  On May 30, the Spanish Congress unanimously su...        8  \n",
       "8  The banks committee of the New York state legi...        1  \n",
       "9  Japan’s Financial Services Agency (FSA) has is...       11  "
      ]
     },
     "execution_count": 234,
     "metadata": {},
     "output_type": "execute_result"
    }
   ],
   "source": [
    "df.head(10)"
   ]
  },
  {
   "cell_type": "code",
   "execution_count": 235,
   "metadata": {},
   "outputs": [],
   "source": [
    "df.to_csv(\"df.csv\",index=None)"
   ]
  }
 ],
 "metadata": {
  "kernelspec": {
   "display_name": "Python 3",
   "language": "python",
   "name": "python3"
  },
  "language_info": {
   "codemirror_mode": {
    "name": "ipython",
    "version": 3
   },
   "file_extension": ".py",
   "mimetype": "text/x-python",
   "name": "python",
   "nbconvert_exporter": "python",
   "pygments_lexer": "ipython3",
   "version": "3.6.5"
  }
 },
 "nbformat": 4,
 "nbformat_minor": 2
}
